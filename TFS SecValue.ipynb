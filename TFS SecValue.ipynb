{
 "cells": [
  {
   "cell_type": "markdown",
   "metadata": {},
   "source": [
    "***\n",
    "# PVA Function\n",
    "### _Calculates Present Value Amount_\n",
    "> _support function used by the SecValue Function_<br>"
   ]
  },
  {
   "cell_type": "raw",
   "metadata": {},
   "source": []
  },
  {
   "cell_type": "code",
   "execution_count": 1,
   "metadata": {},
   "outputs": [],
   "source": [
    "def Fx_PVA(apr,numOfPeriods,payment, frequency):\n",
    "    apr =round(apr,4)\n",
    "    payment = round(payment,2)\n",
    "    rate = apr / (frequency * 100)\n",
    "    \n",
    "    if rate == 0:\n",
    "        return numOfPeriods * payment\n",
    "    else:\n",
    "        return payment * ((1 - 1/((1+rate)**numOfPeriods))/rate)"
   ]
  },
  {
   "cell_type": "markdown",
   "metadata": {},
   "source": [
    "***\n",
    "***\n",
    "# SecValue Function\n",
    "### _Calculates the Securitization value of a Lease_\n",
    "Fx_SecValueMENM(discountRate, remainingTerm , paymentDue, payAheadAmtorDelinqAmt,residual,delinquencyType = 'First',frequency=12):\n",
    "    <br>\n",
    "\n",
    "The parameters are:\n",
    "- discountRate (Discount Rate) = S_InvestorRate\n",
    "- remainingTerm (Remaining Term) = S_CurrRemNbrPmts \n",
    "- paymentDue (Rental Payment Due) =  O_BaseRentPmt\n",
    "- payAheadAmtorDelinqAmt (PayAhead or Delinquent Amount) =  O_BaseRentRecBal\n",
    "- residual (Residual Value) = S_InvResidual\n",
    "- delinquencyType = 'First'\n",
    "- frequency = 12\n",
    "\n",
    "\n",
    "<div class=\"alert alert-block alert-success\">\n",
    "<b> The function calculates four intermediate discounted components: </b>\n",
    "<br>\n",
    "<b>1. pvaPart (Present Value of future rent payments)</b> = Present Value of future scheduled payment factoring any payahead amount.<br>\n",
    "<b>2. delinqPart (Present Value of delinquent payments) </b> = Present Value of the delinquent payment.<br>\n",
    "<i>Note:At TFS the delinquent amount will be discounted by 1 period as it is assumed that it will be collected in the next period. Other issues may assume the delinquent amounts will be collected at the end of the term.</i><br>\n",
    "<b>3. partialPmtPart (Present Value of partial payahead rent payments) </b>= Present Value of a partial payahead. <br>\n",
    "<i>For example if the customer's payment is 500 and RemTerm is 6, but we have payahead of 1150, that means there are 2 full prepayments and one partial prepayment of 150. The 150 will be discounted with in the 3rd period i.e the next period following the 2 full prepayments.</i><br>\n",
    "<b>4. residualPmtPart (Present Value of the residual value) </b><br>\n",
    "   \n",
    "<b>The SecValue is sum of: pvaPart + delinqPart + partialPmtPart + residualPmtPart </b> \n",
    " \n",
    " <div>"
   ]
  },
  {
   "cell_type": "code",
   "execution_count": null,
   "metadata": {},
   "outputs": [],
   "source": []
  },
  {
   "cell_type": "code",
   "execution_count": 2,
   "metadata": {},
   "outputs": [],
   "source": [
    "def Fx_SecValueMENM(discountRate, remainingTerm , paymentDue, payAheadAmtorDelinqAmt,residual,delinquencyType = 'First',frequency=12):\n",
    "    \n",
    "    discountRate = round(discountRate,4)\n",
    "\n",
    "######################### If the Remaining Term is 0 or less then Calculate SecValue ########################   \n",
    "    if remainingTerm < 1:\n",
    "        print((residual - payAheadAmtorDelinqAmt)/(1.0 + discountRate / (frequency * 100)))\n",
    "\n",
    "### Calculate the Delinquency/Payahead period. Used in the delinqPart.   \n",
    "    if delinquencyType == 'Last':\n",
    "        if remainingTerm - 1 > 0:\n",
    "            delinqPeriod = remainingTerm - 1\n",
    "        else:\n",
    "            delinqPeriod = 0\n",
    "    else:\n",
    "        delinqPeriod = 1\n",
    "\n",
    "### Convert the annual discount rate to effective monthly rate        \n",
    "    rate = discountRate / (frequency * 100)\n",
    "\n",
    "### Calculate the number of full prepayments made and partial payahead amount if any.\n",
    "#*Note: The number full prepayments would result in no payment due for that many periods.The partial payahead amount will be also discounted accordingly and factored in the final SecValue result\n",
    "    \n",
    "    if paymentDue == 0: #Note: This seem to NOT be possible. And has never happened, so the logic was dormant.\n",
    "        nbrFullPrePmts = 0\n",
    "        partialPayment = -payAheadAmtorDelinqAmt\n",
    "    else:\n",
    "        nbrFullPrePmts = payAheadAmtorDelinqAmt/ paymentDue if payAheadAmtorDelinqAmt / paymentDue > 0 else 0\n",
    "        nbrFullPrePmts = int(nbrFullPrePmts)\n",
    "        partialPayment = paymentDue - (payAheadAmtorDelinqAmt - (nbrFullPrePmts*paymentDue)) if payAheadAmtorDelinqAmt - (nbrFullPrePmts*paymentDue) > 0.005 else 0\n",
    "\n",
    "    nbrFullPrePmts = int(nbrFullPrePmts)\n",
    "    print ('Number of Full Prepayments',nbrFullPrePmts)\n",
    "    print ('Partial PayAhead Amount',round(partialPayment,2))\n",
    "\n",
    "    if partialPayment > 0:\n",
    "        partialPmtFlag = 1\n",
    "    else:\n",
    "        partialPmtFlag = 0\n",
    "\n",
    "######################### 1. pvaPart\n",
    "    if (nbrFullPrePmts + partialPmtFlag) != 0:\n",
    "        pvaPart = Fx_PVA(discountRate,(remainingTerm - (nbrFullPrePmts + partialPmtFlag) - 1 if (remainingTerm - (nbrFullPrePmts + partialPmtFlag) - 1) > 0 else 0), paymentDue, frequency) / ((1 + rate)**(nbrFullPrePmts + partialPmtFlag))\n",
    "        #print('f+p>0',pvaPart)\n",
    "    else:\n",
    "        pvaPart = Fx_PVA(discountRate,(remainingTerm - (nbrFullPrePmts + partialPmtFlag) - 1 if (remainingTerm - (nbrFullPrePmts + partialPmtFlag) - 1) > 0 else 0), paymentDue, frequency)\n",
    "        #print('f+p>0',pvaPart)\n",
    "        \n",
    "    pvaPart = round(pvaPart,10)\n",
    "\n",
    "####################### 2. delinqPart       \n",
    "    delinqPart = (-payAheadAmtorDelinqAmt if -payAheadAmtorDelinqAmt > 0 else 0) / ((1 + rate)**delinqPeriod)\n",
    "\n",
    "####################### 3. partialPmtPart  \n",
    "    #IF the customer has pre-paid more than the remaining number of payments, then there is no future payment\n",
    "    if ((((remainingTerm -1)* paymentDue) - payAheadAmtorDelinqAmt) <= 0):\n",
    "        partialPmtPart = 0\n",
    "    #Else discount the partial Payment Amount\n",
    "    else:\n",
    "        partialPmtPart = partialPayment /((1 + rate)**(nbrFullPrePmts + 1))\n",
    "\n",
    "####################### 4. residualPmtPart\n",
    "    #Recalculate the residual if the customer has paid more than the reminaing number of monthly payments\n",
    "    TempCalc = - payAheadAmtorDelinqAmt if (remainingTerm - 1)* paymentDue < 0 else (remainingTerm - 1)* paymentDue - payAheadAmtorDelinqAmt \n",
    "    #calculate the effective residual value to be discounted\n",
    "    effectiveResidual = max(0,residual + (TempCalc if TempCalc < 0 else 0))\n",
    "    #calculate the residualPmtPart\n",
    "    residualPmtPart = effectiveResidual / ((1 + rate)**remainingTerm)\n",
    "    \n",
    "\n",
    "    print ('\\n','pvaPart:',round(pvaPart,2),'\\n',\n",
    "           'delinqPart:', round(delinqPart,2),'\\n',\n",
    "           'partialPmtPart:',round(partialPmtPart,2),'\\n',\n",
    "           'residualPmtPart:',round(residualPmtPart,2),'\\n',\n",
    "           'SecValue:',round(pvaPart + delinqPart + partialPmtPart + residualPmtPart,2))\n"
   ]
  },
  {
   "cell_type": "markdown",
   "metadata": {},
   "source": [
    "***\n",
    "***\n",
    "***\n",
    "# SecValue Examples"
   ]
  },
  {
   "cell_type": "markdown",
   "metadata": {},
   "source": [
    "***\n",
    "***\n",
    "**PullAhead Scenario with (incorrect) Delinquent Amount**\n",
    "<br> 1. The remainingTerm (S_CurrRemNbrPmts) in the SecValue function for PullAhead is hardcoded to 1 and paymentDue (O_BaseRentPmt) is hardcoded to 0, since for a PullAhead it is assumed there are no more lease payments expected/due from the customer and the residual would be discounted by 1 period.\n",
    "<br> 2. O_BaseRentRecBal as usual represents either a payAhead amount or Delinquent amount. It is a:\n",
    "> - Payahead (if the value is negative) \n",
    "> - Delinquent Payment (if the value positive)       "
   ]
  },
  {
   "cell_type": "markdown",
   "metadata": {},
   "source": [
    "<div class=\"alert alert-block alert-info\">\n",
    "\n",
    "The problem with having a Delinquent Amount for a Pullahead is that the SecValue functions has logic:\n",
    "> - If the rent Payment Due (hardcoded to 0 for PullAheads) = 0 then the full delinquent payment (O_BaseRentRecBal) is incorrectly considered as partial payment. And it doesn't seem that we have ever had a scenario where an account has had O_BaseRentPmt = 0 and O_BaseRentRecBal <> 0, so that part of the logic was always dormant.\n",
    "> - The delinquent payment (O_BaseRentRecBal) is also considered as delinquent and thus doublecounted\n",
    "</div>"
   ]
  },
  {
   "cell_type": "markdown",
   "metadata": {},
   "source": [
    "**Inputs to SecValue**\n",
    "<br>\n",
    "remainingTerm is ignored and hardcoded to 1 in the SecValue function #S_CurrRemNbrPmts<br>\n",
    "discountRate = 6.05000  #S_InvestorRate<br>\n",
    "paymentDue is ignored and hardcoded to 0 in the SecValue function0 #O_BaseRentPmt<br>\n",
    "payAheadAmtorDelinqAmt =  1364.28 #O_BaseRentRecBal<br>\n",
    "residual =  22657.00 #S_InvResidual<br>"
   ]
  },
  {
   "cell_type": "code",
   "execution_count": 3,
   "metadata": {},
   "outputs": [
    {
     "name": "stdout",
     "output_type": "stream",
     "text": [
      "Number of Full Prepayments 0\n",
      "Partial PayAhead Amount 1364.28\n",
      "\n",
      " pvaPart: 0.0 \n",
      " delinqPart: 1357.44 \n",
      " partialPmtPart: 1357.44 \n",
      " residualPmtPart: 22543.34 \n",
      " SecValue: 25258.22\n",
      "None\n"
     ]
    }
   ],
   "source": [
    "###Inputs to SecValue####\n",
    "\n",
    "#remainingTerm is ignored and hardcoded to 1 in the SecValue function #S_CurrRemNbrPmts\n",
    "discountRate = 6.05000  #S_InvestorRate\n",
    "#paymentDue is ignored and hardcoded to 0 in the SecValue function0 #O_BaseRentPmt\n",
    "payAheadAmtorDelinqAmt =  1364.28 #O_BaseRentRecBal\n",
    "residual =  22657.00 #S_InvResidual\n",
    "print(Fx_SecValueMENM(discountRate, 1, 0,-payAheadAmtorDelinqAmt,residual, 'First',12))"
   ]
  },
  {
   "cell_type": "markdown",
   "metadata": {},
   "source": [
    "***\n",
    "***\n",
    "**PullAhead Scenario with (incorrect) Delinquent Amount**\n",
    "<br> 1.The remainingTerm (S_CurrRemNbrPmts) in the SecValue function for PullAhead is hardcoded to 1 and paymentDue (O_BaseRentPmt) is hardcoded to 0, since for a PullAhead it is assumed there are no more lease payments expected/due from the customer and the residual would be discounted by 1 period.\n",
    "\n",
    "<br> 2. O_BaseRentRecBal as usual represents either a PayAhead amount or Delinquent amount. It is a:\n",
    "> - Payahead (if the value is negative) \n",
    "> - Delinquent Payment (if the value positive)"
   ]
  },
  {
   "cell_type": "markdown",
   "metadata": {},
   "source": [
    "**Inputs to SecValue**\n",
    "<br>\n",
    "remainingTerm is ignored and hardcoded to 1 in the SecValue function #S_CurrRemNbrPmts<br>\n",
    "discountRate = 6.05000  #S_InvestorRate<br>\n",
    "paymentDue is ignored and hardcoded to 0 in the SecValue function0 #O_Base<br>\n",
    "payAheadAmt =  0 #O_BaseRentRecBal<br>\n",
    "residual =  22657.00 #S_InvResidual<br>"
   ]
  },
  {
   "cell_type": "code",
   "execution_count": 4,
   "metadata": {},
   "outputs": [
    {
     "name": "stdout",
     "output_type": "stream",
     "text": [
      "Number of Full Prepayments 0\n",
      "Partial PayAhead Amount 0\n",
      "\n",
      " pvaPart: 0.0 \n",
      " delinqPart: 0.0 \n",
      " partialPmtPart: 0 \n",
      " residualPmtPart: 22543.34 \n",
      " SecValue: 22543.34\n",
      "None\n"
     ]
    }
   ],
   "source": [
    "###Inputs to SecValue####\n",
    "\n",
    "#remainingTerm is ignored and hardcoded to 1 in the SecValue function #S_CurrRemNbrPmts\n",
    "discountRate = 6.05000  #S_InvestorRate\n",
    "#paymentDue is ignored and hardcoded to 0 in the SecValue function0 #O_Base\n",
    "payAheadAmt =  0 #O_BaseRentRecBal\n",
    "residual =  22657.00 #S_InvResidual\n",
    "print(Fx_SecValueMENM(discountRate, 1, 0,-payAheadAmt,residual, 'First',12))"
   ]
  },
  {
   "cell_type": "markdown",
   "metadata": {},
   "source": [
    "***\n",
    "***\n",
    "**Active and Not Delinquent and Not PayAhead**"
   ]
  },
  {
   "cell_type": "markdown",
   "metadata": {},
   "source": [
    "**Inputs to SecValue**\n",
    "<br>\n",
    "remainingTerm = 6 # S_CurrRemNbrPmts<br>\n",
    "discountRate = 6.05000  #S_InvestorRate<br>\n",
    "paymentDue =   454.76 #O_BaseRentPmt<br>\n",
    "payAheadAmtorDelinqAmt =  0 #O_BaseRentRecBal<br>\n",
    "residual =  22657.00 #S_InvResidual<br>"
   ]
  },
  {
   "cell_type": "code",
   "execution_count": 5,
   "metadata": {},
   "outputs": [
    {
     "name": "stdout",
     "output_type": "stream",
     "text": [
      "Number of Full Prepayments 0\n",
      "Partial PayAhead Amount 0\n",
      "\n",
      " pvaPart: 2681.05 \n",
      " delinqPart: 0.0 \n",
      " partialPmtPart: 0.0 \n",
      " residualPmtPart: 21873.28 \n",
      " SecValue: 24554.33\n",
      "None\n"
     ]
    }
   ],
   "source": [
    "###Inputs to SecValue####\n",
    "\n",
    "remainingTerm = 6 # S_CurrRemNbrPmts\n",
    "discountRate = 6.05000  #S_InvestorRate\n",
    "paymentDue =   454.76 #O_BaseRentPmt\n",
    "payAheadAmtorDelinqAmt =  0 #O_BaseRentRecBal\n",
    "residual =  22657.00 #S_InvResidual\n",
    "print(Fx_SecValueMENM(discountRate, remainingTerm +1, paymentDue,-payAheadAmtorDelinqAmt,residual, 'First',12))\n",
    "   "
   ]
  },
  {
   "cell_type": "markdown",
   "metadata": {},
   "source": [
    "***\n",
    "***\n",
    "**Active and PayAhead**\n",
    "<br> _the account has a full payment ahead and partial payahead amount_"
   ]
  },
  {
   "cell_type": "markdown",
   "metadata": {},
   "source": [
    "**Inputs to SecValue**\n",
    "<br>\n",
    "remainingTerm = 6 # S_CurrRemNbrPmts<br>\n",
    "discountRate = 5.95  #S_InvestorRate<br>\n",
    "paymentDue =   306.54 #O_BaseRentPmt<br>\n",
    "payAheadAmtorDelinqAmt =  -577.57 #O_BaseRentRecBal<br>\n",
    "residual =  18737.00 #S_InvResidual<br>"
   ]
  },
  {
   "cell_type": "code",
   "execution_count": 6,
   "metadata": {},
   "outputs": [
    {
     "name": "stdout",
     "output_type": "stream",
     "text": [
      "Number of Full Prepayments 1\n",
      "Partial PayAhead Amount 35.51\n",
      "\n",
      " pvaPart: 1199.19 \n",
      " delinqPart: 0.0 \n",
      " partialPmtPart: 35.16 \n",
      " residualPmtPart: 18099.38 \n",
      " SecValue: 19333.73\n",
      "None\n"
     ]
    }
   ],
   "source": [
    "###Inputs to SecValue####\n",
    "\n",
    "remainingTerm = 6 # S_CurrRemNbrPmts\n",
    "discountRate = 5.95  #S_InvestorRate\n",
    "paymentDue =   306.54 #O_BaseRentPmt\n",
    "payAheadAmtorDelinqAmt =  -577.57 #O_BaseRentRecBal\n",
    "residual =  18737.00 #S_InvResidual\n",
    "print(Fx_SecValueMENM(discountRate, remainingTerm +1, paymentDue,-payAheadAmtorDelinqAmt,residual, 'First',12))\n"
   ]
  },
  {
   "cell_type": "markdown",
   "metadata": {},
   "source": [
    "***\n",
    "***\n",
    "**Active and Delinquent**\n",
    "<br> _the account has more than one delinquent payments_"
   ]
  },
  {
   "cell_type": "markdown",
   "metadata": {},
   "source": [
    "**Inputs to SecValue**\n",
    "<br>\n",
    "remainingTerm = 6 # S_CurrRemNbrPmts<br>\n",
    "discountRate = 5.5  #S_InvestorRate<br>\n",
    "paymentDue =   397.2 #O_BaseRentPmt<br>\n",
    "payAheadAmtorDelinqAmt =  758.25 #O_BaseRentRecBal<br>\n",
    "residual =  22545.00 #S_InvResidual<br>"
   ]
  },
  {
   "cell_type": "code",
   "execution_count": 7,
   "metadata": {},
   "outputs": [
    {
     "name": "stdout",
     "output_type": "stream",
     "text": [
      "Number of Full Prepayments 0\n",
      "Partial PayAhead Amount 0\n",
      "\n",
      " pvaPart: 2345.43 \n",
      " delinqPart: 754.79 \n",
      " partialPmtPart: 0.0 \n",
      " residualPmtPart: 21834.76 \n",
      " SecValue: 24934.98\n",
      "None\n"
     ]
    }
   ],
   "source": [
    "remainingTerm = 6 # S_CurrRemNbrPmts\n",
    "discountRate = 5.5  #S_InvestorRate\n",
    "paymentDue =   397.2 #O_BaseRentPmt\n",
    "payAheadAmtorDelinqAmt =  758.25 #O_BaseRentRecBal\n",
    "residual =  22545.00 #S_InvResidual\n",
    "print(Fx_SecValueMENM(discountRate, remainingTerm +1, paymentDue,-payAheadAmtorDelinqAmt,residual, 'First',12))"
   ]
  },
  {
   "cell_type": "code",
   "execution_count": 9,
   "metadata": {},
   "outputs": [
    {
     "name": "stdout",
     "output_type": "stream",
     "text": [
      "Number of Full Prepayments 0\n",
      "Partial PayAhead Amount 0\n",
      "\n",
      " pvaPart: 10061.91 \n",
      " delinqPart: 0.0 \n",
      " partialPmtPart: 0.0 \n",
      " residualPmtPart: 0.0 \n",
      " SecValue: 10061.91\n",
      "None\n"
     ]
    }
   ],
   "source": [
    "print(Fx_SecValueMENM(0.0525000000,18, 592.105,0,0, 'First',12))"
   ]
  },
  {
   "cell_type": "code",
   "execution_count": 15,
   "metadata": {},
   "outputs": [
    {
     "data": {
      "text/plain": [
       "10227.636592836896"
      ]
     },
     "execution_count": 15,
     "metadata": {},
     "output_type": "execute_result"
    }
   ],
   "source": [
    "Fx_PVA(5.25000000,18,592.105, 12)"
   ]
  },
  {
   "cell_type": "code",
   "execution_count": null,
   "metadata": {},
   "outputs": [],
   "source": []
  }
 ],
 "metadata": {
  "kernelspec": {
   "display_name": "Python 3",
   "language": "python",
   "name": "python3"
  },
  "language_info": {
   "codemirror_mode": {
    "name": "ipython",
    "version": 3
   },
   "file_extension": ".py",
   "mimetype": "text/x-python",
   "name": "python",
   "nbconvert_exporter": "python",
   "pygments_lexer": "ipython3",
   "version": "3.7.3"
  }
 },
 "nbformat": 4,
 "nbformat_minor": 2
}
