{
 "cells": [
  {
   "cell_type": "markdown",
   "metadata": {},
   "source": [
    "# Excel Converersion of Dates from US to Euro Format"
   ]
  },
  {
   "cell_type": "code",
   "execution_count": 2,
   "metadata": {},
   "outputs": [],
   "source": [
    "import pandas as pd\n",
    "import os\n",
    "import re\n",
    "import openpyxl\n",
    "from openpyxl.styles import Font, Fill, Color\n",
    "from openpyxl.styles import colors\n",
    "from openpyxl.styles import numbers\n",
    "import numpy as np\n",
    "np.set_printoptions(suppress=True)\n",
    "\n",
    "from pathlib import Path\n",
    "from datetime import datetime"
   ]
  },
  {
   "cell_type": "code",
   "execution_count": 3,
   "metadata": {},
   "outputs": [],
   "source": [
    "path = 'C:/Users/bgeorgiev/Python Scripts - ipynb/ABS Suite Help/SQL Compare'\n",
    "#path = Path.cwd()\n",
    "#convertedpath = path+'/Converted'\n",
    "os.chdir(path)"
   ]
  },
  {
   "cell_type": "markdown",
   "metadata": {},
   "source": [
    "### Compare DataFrames Function"
   ]
  },
  {
   "cell_type": "code",
   "execution_count": 4,
   "metadata": {},
   "outputs": [],
   "source": [
    "def excel_diff(df_OLD, df_NEW, index_col):\n",
    "\n",
    "    #df_OLD = pd.read_excel(path_OLD, index_col=index_col).fillna(0)\n",
    "    #df_NEW = pd.read_excel(path_NEW, index_col=index_col).fillna(0)\n",
    "\n",
    "    # Perform Diff\n",
    "    dfDiff = df_NEW.copy()\n",
    "    droppedRows = []\n",
    "    newRows = []\n",
    "    diffRows = []\n",
    "\n",
    "    cols_OLD = df_OLD.columns\n",
    "    cols_NEW = df_NEW.columns\n",
    "    sharedCols = list(set(cols_OLD).intersection(cols_NEW))\n",
    "    \n",
    "    for row in dfDiff.index:\n",
    "        if (row in df_OLD.index) and (row in df_NEW.index):\n",
    "            for col in sharedCols:\n",
    "                value_OLD = df_OLD.loc[row,col]\n",
    "\n",
    "                value_NEW = df_NEW.loc[row,col]\n",
    "                if value_OLD==value_NEW:\n",
    "                    dfDiff.loc[row,col] = df_NEW.loc[row,col]\n",
    "                else:\n",
    "                    dfDiff.loc[row,col] = ('{}-->{}').format(value_OLD,value_NEW)\n",
    "                    diffRows.append(row)\n",
    "        else:\n",
    "            newRows.append(row)\n",
    "\n",
    "    for row in df_OLD.index:\n",
    "        if row not in df_NEW.index:\n",
    "            droppedRows.append(row)\n",
    "            dfDiff = dfDiff.append(df_OLD.loc[row,:])\n",
    "\n",
    "    dfDiff = dfDiff.sort_index().fillna('')\n",
    "    #print(dfDiff)\n",
    "    print('\\nNew Rows:     {}'.format(newRows))\n",
    "    print('Dropped Rows: {}'.format(droppedRows))\n",
    "\n",
    "    # Save output and format\n",
    "    fname = '{} vs {}.xlsx'.format(path_OLD,path_NEW)\n",
    "    writer = pd.ExcelWriter(fname, engine='xlsxwriter')\n",
    "\n",
    "    dfDiff.to_excel(writer, sheet_name='DIFF', index=True)\n",
    "    df_NEW.to_excel(writer, sheet_name=path_NEW, index=True)\n",
    "    df_OLD.to_excel(writer, sheet_name=path_OLD, index=True)\n",
    "\n",
    "    diffRows = list(set(diffRows+newRows+droppedRows))\n",
    "    df_Changes = dfDiff.loc[diffRows,:]\n",
    "    print('\\nChanges:\\n{}'.format(df_Changes))\n",
    "\n",
    "    # get xlsxwriter objects\n",
    "    workbook  = writer.book\n",
    "    worksheet = writer.sheets['DIFF']\n",
    "    worksheet.hide_gridlines(2)\n",
    "    worksheet.set_default_row(15)\n",
    "\n",
    "    # define formats\n",
    "    #date_fmt = workbook.add_format({'align': 'center', 'num_format': 'yyyy-mm-dd'})\n",
    "    center_fmt = workbook.add_format({'align': 'center'})\n",
    "    number_fmt = workbook.add_format({'align': 'center', 'num_format': '#,##0.00'})\n",
    "    cur_fmt = workbook.add_format({'align': 'center', 'num_format': '$#,##0.00'})\n",
    "    perc_fmt = workbook.add_format({'align': 'center', 'num_format': '0%'})\n",
    "    \n",
    "    #grey_fmt = workbook.add_format({'font_color': '#E0E0E0', 'diag_type': 2,'diag_color': 'red'})\n",
    "    grey_fmt = workbook.add_format({'font_color': '#E0E0E0'})\n",
    "    #drop_fmt = workbook.add_format({'font_color': 'red', 'bold':True})   \n",
    "    drop_fmt = workbook.add_format({'font_color': 'white', 'bg_color': 'red'})\n",
    "    #new_fmt = workbook.add_format({'font_color': '#32CD32','bold':True})\n",
    "    new_fmt = workbook.add_format({'font_color': 'white','bg_color': 'green'})\n",
    "    highlight_fmt = workbook.add_format({'font_color': '#FF0000', 'bg_color':'#B1B3B3'})\n",
    "\n",
    "    # set format over range\n",
    "    ## highlight changed cells\n",
    "    worksheet.conditional_format('A1:ZZ1000', {'type': 'text',\n",
    "                                            'criteria': 'containing',\n",
    "                                            'value':'-->',\n",
    "                                            'format': highlight_fmt})\n",
    "\n",
    "#     ## highlight unchanged cells\n",
    "#     worksheet.conditional_format('A1:ZZ1000', {'type': 'text',\n",
    "#                                             'criteria': 'not containing',\n",
    "#                                             'value':'-->',\n",
    "#                                             'format': grey_fmt})\n",
    "    # highlight new/changed rows\n",
    "    #for row in range(dfDiff.shape[0]):\n",
    "    for i,row in enumerate(dfDiff.index):\n",
    "        #print(row, newRows)\n",
    "        if row in newRows:\n",
    "            print('new row', row)\n",
    "            worksheet.set_row(i+1, 15, new_fmt)\n",
    "        if row in droppedRows:\n",
    "            print('dropped rows', row)\n",
    "            worksheet.set_row(i+1, 15, drop_fmt)\n",
    "\n",
    "    # save\n",
    "    writer.save()\n",
    "    print('\\nDone.\\n')"
   ]
  },
  {
   "cell_type": "markdown",
   "metadata": {},
   "source": [
    "#### Set DB config"
   ]
  },
  {
   "cell_type": "code",
   "execution_count": 5,
   "metadata": {},
   "outputs": [],
   "source": [
    "import pyodbc\n",
    "server = '10.25.31.117'\n",
    "databaseWeb = 'ABSWeb_DaimlerUS'\n",
    "databaseNet = 'ABSDaimler_BUS'\n",
    "username = 'sqluser'\n",
    "password = 'mis'\n",
    "con = 'Yes'\n",
    "#Connection String\n",
    "connectionWeb = pyodbc.connect('DRIVER={SQL Server Native Client 11.0};SERVER='+server+';DATABASE='+databaseWeb+';UID='+username+';PWD='+ password)\n",
    "connectionNet = pyodbc.connect('DRIVER={SQL Server Native Client 11.0};SERVER='+server+';DATABASE='+databaseNet+';UID='+username+';PWD='+ password)\n",
    "\n",
    "# cursor = connection.cursor()\n",
    "# cursor.execute(\"SELECT * from DEAL_D;\")\n",
    "# row = cursor.fetchone()\n",
    "# while row:\n",
    "#     print(row[0])\n",
    "#     row = cursor.fetchone()"
   ]
  },
  {
   "cell_type": "markdown",
   "metadata": {},
   "source": [
    "#### Set SQL Query "
   ]
  },
  {
   "cell_type": "code",
   "execution_count": 6,
   "metadata": {},
   "outputs": [],
   "source": [
    "_SQL = '''SELECT TRUST_ID, PCD_ACT_D, count(*) as Count, sum(S_invPrinBal) as S_InvPrinBal,  sum(S_invbegPrinBal) as S_InvBegPrinBal\n",
    "from TRUCK_CS_MASTER\n",
    "group by TRUST_ID, PCD_ACT_D\n",
    "order by TRUST_ID, PCD_ACT_D\n",
    "'''\n",
    "\n",
    "indexcols = ['TRUST_ID','PCD_ACT_D']\n",
    "\n",
    "_SQLWeb = _SQL\n",
    "#_SQLWeb = 'Use [' + databaseWeb + '] '+ _SQL\n",
    "_SQLNet = _SQL\n",
    "\n",
    "#print(_SQLWeb, _SQLNet)"
   ]
  },
  {
   "cell_type": "markdown",
   "metadata": {},
   "source": [
    "#### Run SQL Queries"
   ]
  },
  {
   "cell_type": "code",
   "execution_count": 7,
   "metadata": {},
   "outputs": [],
   "source": [
    "dfWeb = pd.read_sql_query(_SQLWeb, connectionWeb)\n",
    "dfNet = pd.read_sql(_SQLNet, connectionNet)\n",
    "connectionWeb.close()\n",
    "connectionNet.close()"
   ]
  },
  {
   "cell_type": "code",
   "execution_count": 8,
   "metadata": {},
   "outputs": [],
   "source": [
    "dfWeb = dfWeb.sort_values(by=indexcols, ascending=True, na_position='first')\n",
    "dfNet = dfNet.sort_values(by=indexcols, ascending=True, na_position='first')"
   ]
  },
  {
   "cell_type": "markdown",
   "metadata": {},
   "source": [
    "#### Compare Excels"
   ]
  },
  {
   "cell_type": "code",
   "execution_count": 9,
   "metadata": {},
   "outputs": [
    {
     "name": "stdout",
     "output_type": "stream",
     "text": [
      "\n",
      "New Rows:     []\n",
      "Dropped Rows: []\n",
      "\n",
      "Changes:\n",
      "     TRUST_ID  PCD_ACT_D  Count                S_InvPrinBal  S_InvBegPrinBal\n",
      "2  DTRT20181  2018-05-31   9425  990663796.91-->990663796.9     1.028435e+09\n",
      "\n",
      "Done.\n",
      "\n"
     ]
    }
   ],
   "source": [
    "#sheetnames for the queries to be saved to\n",
    "path_OLD='Query_Net'\n",
    "path_NEW = 'Query_Web'\n",
    "excel_diff(dfNet, dfWeb,indexcols)"
   ]
  },
  {
   "cell_type": "code",
   "execution_count": null,
   "metadata": {},
   "outputs": [],
   "source": []
  }
 ],
 "metadata": {
  "kernelspec": {
   "display_name": "Python 3",
   "language": "python",
   "name": "python3"
  },
  "language_info": {
   "codemirror_mode": {
    "name": "ipython",
    "version": 3
   },
   "file_extension": ".py",
   "mimetype": "text/x-python",
   "name": "python",
   "nbconvert_exporter": "python",
   "pygments_lexer": "ipython3",
   "version": "3.7.3"
  }
 },
 "nbformat": 4,
 "nbformat_minor": 2
}
