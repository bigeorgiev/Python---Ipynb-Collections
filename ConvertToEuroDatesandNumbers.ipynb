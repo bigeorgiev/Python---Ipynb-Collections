{
 "cells": [
  {
   "cell_type": "markdown",
   "metadata": {},
   "source": [
    "### Excel Converersion of Dates from US to Euro Format"
   ]
  },
  {
   "cell_type": "code",
   "execution_count": 62,
   "metadata": {},
   "outputs": [],
   "source": [
    "import pandas as pd\n",
    "import os\n",
    "import re\n",
    "import openpyxl\n",
    "from openpyxl.styles import Font, Fill, Color\n",
    "from openpyxl.styles import colors\n",
    "from openpyxl.styles import numbers\n",
    "import numpy as np\n",
    "\n",
    "from pathlib import Path\n",
    "from datetime import datetime"
   ]
  },
  {
   "cell_type": "markdown",
   "metadata": {},
   "source": [
    "#### Change the path where the source files are located:"
   ]
  },
  {
   "cell_type": "code",
   "execution_count": 63,
   "metadata": {},
   "outputs": [],
   "source": [
    "today = datetime.today()\n",
    "# sales_file = Path.cwd() / \"data\" / \"raw\" / \"Sales-History.csv\"\n",
    "# pipeline_file = Path.cwd() / \"data\" / \"raw\" / \"pipeline_data.xlsx\"\n",
    "# summary_file = Path.cwd() / \"data\" / \"processed\" / f\"summary_{today:%b-%d-%Y}.pkl\""
   ]
  },
  {
   "cell_type": "code",
   "execution_count": 64,
   "metadata": {},
   "outputs": [],
   "source": [
    "path = 'C:/Users/bgeorgiev/Python Scripts - ipynb/Euro Dates'\n",
    "#path = Path.cwd()\n",
    "convertedpath = path+'/Converted'\n",
    "#convertedpath = path /'Converted'\n",
    "os.chdir(path)"
   ]
  },
  {
   "cell_type": "code",
   "execution_count": 65,
   "metadata": {},
   "outputs": [],
   "source": [
    "USNumberPattern = re.compile(r\"\"\"\n",
    "        ^(\\d*)[,]?(\\d+)[.]+(\\d*)$\n",
    "        \"\"\", re.VERBOSE)"
   ]
  },
  {
   "cell_type": "code",
   "execution_count": 66,
   "metadata": {},
   "outputs": [],
   "source": [
    "def FromUStoEuroNumber(cell):\n",
    "    '''used for US format of $$.$$\n",
    "    '''\n",
    "    cell = str(cell)\n",
    "    l = []\n",
    "    #r = re.search(r'(\\d+)[.](\\d+)[.,]?(\\d*)', cell)\n",
    "    r = USNumberPattern.search(cell)\n",
    "    if r:\n",
    "        #print('r',r.groups())\n",
    "        if r.group(3):\n",
    "            l.append('{0}{1},{2}'.format(*r.groups()))\n",
    "        elif r.group(2):\n",
    "            l.append('{0},{1}'.format(*r.groups()))\n",
    "        else:\n",
    "            l.append('{}'.format(*r.groups()))\n",
    "        EuroNumber = l[0]\n",
    "    else:\n",
    "        EuroNumber = None\n",
    "    return EuroNumber"
   ]
  },
  {
   "cell_type": "code",
   "execution_count": 67,
   "metadata": {},
   "outputs": [
    {
     "data": {
      "text/plain": [
       "'100000,50'"
      ]
     },
     "execution_count": 67,
     "metadata": {},
     "output_type": "execute_result"
    }
   ],
   "source": [
    "FromUStoEuroNumber('700000')\n",
    "FromUStoEuroNumber('2.9999')\n",
    "FromUStoEuroNumber('10.99')\n",
    "FromUStoEuroNumber('12.79999')\n",
    "FromUStoEuroNumber('100,000.50')"
   ]
  },
  {
   "cell_type": "markdown",
   "metadata": {},
   "source": [
    "### A. Function to convert from US YYYYMMDD to Euro Date format"
   ]
  },
  {
   "cell_type": "code",
   "execution_count": 68,
   "metadata": {},
   "outputs": [],
   "source": [
    "datePatternYYYYMMDD = re.compile(r\"\"\"\n",
    "     ^(.*?) # all text before the date\n",
    "     ((19|20)\\d\\d)[- /.] # four digits for the year (must start with 19 or 20)\n",
    "     ((0|1)?\\d)[- /.] # one or two digits for the month\n",
    "     ((0|1|2|3)?\\d) # one or two digits for the day\n",
    "     (.*?)$ # all text after the date\n",
    "     \"\"\", re.VERBOSE)"
   ]
  },
  {
   "cell_type": "code",
   "execution_count": 69,
   "metadata": {},
   "outputs": [],
   "source": [
    "def FromUStoEuroDateYYYYMMDD(cell):\n",
    "    '''used for US format of YYYY-MM-DD\n",
    "    '''\n",
    "    cell = str(cell)\n",
    "    mo = datePatternYYYYMMDD.search(cell)\n",
    "    #print(cell,'mo',mo.groups())\n",
    "    if mo == None:\n",
    "        return None #cell\n",
    "    else:\n",
    "    # Get the different parts of the filename.\n",
    "        beforePart = mo.group(1)\n",
    "        yearPart   = mo.group(2)\n",
    "        monthPart  = mo.group(4)\n",
    "        dayPart    = mo.group(6)\n",
    "        afterPart  = mo.group(8)\n",
    "\n",
    "        #Form the European-style filename.\n",
    "        EuroDate = beforePart + dayPart + '/' + monthPart + '/' + yearPart #+ afterPart\n",
    "    return EuroDate"
   ]
  },
  {
   "cell_type": "code",
   "execution_count": 70,
   "metadata": {},
   "outputs": [],
   "source": [
    "# FromUStoEuroDatesYYYYMMDD('2018/11/26')"
   ]
  },
  {
   "cell_type": "markdown",
   "metadata": {},
   "source": [
    "### B. Function to convert from US MMDDYYYY to Euro Date format"
   ]
  },
  {
   "cell_type": "code",
   "execution_count": 71,
   "metadata": {},
   "outputs": [],
   "source": [
    "datePatternMMDDYYYY = re.compile(r\"\"\"\n",
    "     ^(.*?) # all text before the date\n",
    "     ((0|1)?\\d)[- /.] # one or two digits for the month\n",
    "     ((0|1|2|3)?\\d)[- /.] # one or two digits for the day\n",
    "     ((19|20)\\d\\d) # four digits for the year (must start with 19 or 20)\n",
    "     (.*?)$ # all text after the date\n",
    "     \"\"\", re.VERBOSE)"
   ]
  },
  {
   "cell_type": "code",
   "execution_count": 72,
   "metadata": {},
   "outputs": [],
   "source": [
    "def FromUStoEuroDateMMDDYYYY(cell):\n",
    "    '''used for US format of MM/DD/YYYY\n",
    "    '''\n",
    "    cell = str(cell)\n",
    "    mo = datePatternMMDDYYYY.search(cell)\n",
    "    #print(cell,'mo',mo.groups())\n",
    "    if mo == None:\n",
    "        return None #cell\n",
    "    else:\n",
    "    # Get the different parts of the filename.\n",
    "        beforePart = mo.group(1)\n",
    "        monthPart   = mo.group(2)\n",
    "        dayPart  = mo.group(4)\n",
    "        yearPart    = mo.group(6)\n",
    "        afterPart  = mo.group(8)\n",
    "\n",
    "        #Form the European-style filename.\n",
    "        EuroDate = beforePart + dayPart + '/' + monthPart + '/' + yearPart #+ afterPart\n",
    "    return EuroDate"
   ]
  },
  {
   "cell_type": "code",
   "execution_count": 73,
   "metadata": {},
   "outputs": [],
   "source": [
    "# FromUStoEuroDateMMDDYYYY('11/26/1980')\n",
    "# FromUStoEuroDateMMDDYYYY('abc')"
   ]
  },
  {
   "cell_type": "markdown",
   "metadata": {},
   "source": [
    "## 2. Iterate through the Source Files, Convert and save a copy in 'Converted' Folder"
   ]
  },
  {
   "cell_type": "code",
   "execution_count": 74,
   "metadata": {},
   "outputs": [
    {
     "name": "stdout",
     "output_type": "stream",
     "text": [
      "Number of source files in Folder: 3\n"
     ]
    }
   ],
   "source": [
    "# Get all the PDF filenames.\n",
    "ExcelFiles = []\n",
    "for filename in os.listdir('.'):\n",
    "    if filename.endswith('.xlsx') and filename.upper().find('EUR')<0:\n",
    "        #print(filename.upper().find('EUR'))\n",
    "        ExcelFiles.append(filename)\n",
    "ExcelFiles.sort()\n",
    "print('Number of source files in Folder:' , len(ExcelFiles))"
   ]
  },
  {
   "cell_type": "code",
   "execution_count": 75,
   "metadata": {
    "scrolled": true
   },
   "outputs": [
    {
     "name": "stdout",
     "output_type": "stream",
     "text": [
      "0 Start: Converting: DDC_TestData.xlsx ...\n",
      "...converting: 90_DDC_Trust tab\n",
      "...converting: 91_DDC_Tranche tab\n",
      "...converting: 92_DDC_CashAccount tab\n",
      "...converting: 93_DDC_Hedge tab\n",
      "...converting: 94_DDC_Group tab\n",
      "...converting: 95_DDC_Fees tab\n",
      "...converting: 96_DDC_CreditEnhancement tab\n",
      "...converting: 97_DDC_Deal tab\n",
      "...converting: 98_DDC_Events tab\n",
      "...converting: 99_DDC_Class tab\n",
      "0 End: File coverted to: DDC_TestData_EUR.xlsx\n",
      "\n",
      "\n",
      "1 Start: Converting: ManualInput_TestData.xlsx ...\n",
      "...converting: 100_MI_ActualIndexRates tab\n",
      "...converting: 101_MI_CollateralAdjustments tab\n",
      "...converting: 102_MI_CPExpense tab\n",
      "...converting: 103_MI_InvestmentIncome tab\n",
      "...converting: 104_MI_FeeExpenses tab\n",
      "...converting: 105_MI_TrancheBalanceChanges tab\n",
      "1 End: File coverted to: ManualInput_TestData_EUR.xlsx\n",
      "\n",
      "\n",
      "2 Start: Converting: Stratification_TestData.xlsx ...\n",
      "...converting: 01_Strat_StratificationGroup tab\n",
      "...converting: 02_Strat_Stratification tab\n",
      "...converting: 03_Strat_StratificationLevel tab\n",
      "2 End: File coverted to: Stratification_TestData_EUR.xlsx\n",
      "\n",
      "\n",
      "3 Files Converted!!!\n"
     ]
    }
   ],
   "source": [
    "for i, filename in enumerate(ExcelFiles):\n",
    "    print(i, 'Start: Converting:', filename, '...')\n",
    "    filename_noExt = (os.path.splitext(os.path.basename(filename))[0])\n",
    "    wb = openpyxl.load_workbook(filename)\n",
    "    for worksheet in wb.sheetnames:\n",
    "        print('...converting:', worksheet, 'tab')\n",
    "        ws = wb[worksheet] #wb.get_sheet_by_name(worksheet)\n",
    "        #row_count = sheet.max_row\n",
    "        #for i in range(row_count):\n",
    "        for row_cells in ws.iter_rows():\n",
    "            for cell in row_cells:\n",
    "                if cell.value is not None:\n",
    "                    #print('orig:', cell.value)\n",
    "                    if FromUStoEuroDateMMDDYYYY(cell.value)!= None:\n",
    "                        #cell.value = FromUStoEuroDateMMDDYYYY(cell.value)\n",
    "                        cell.font = Font(color=colors.BLUE)\n",
    "                        cell.number_format = 'text'\n",
    "                        cell.number_format = 'mm-dd-yy' #'*mm/dd/yyyy'\n",
    "                    \n",
    "                    if FromUStoEuroDateYYYYMMDD(cell.value) != None:\n",
    "                        #cell.value = FromUStoEuroDateYYYYMMDD(cell.value)\n",
    "                        cell.font = Font(color=colors.BLUE)\n",
    "                        cell.number_format = 'text'\n",
    "                        cell.number_format = 'mm-dd-yy' #'*mm/dd/yyyy'\n",
    "                    \n",
    "                    if FromUStoEuroNumber(cell.value) != None:\n",
    "                        #cell.value = FromUStoEuroNumber(cell.value)\n",
    "                        cell.font = Font(color=colors.BLUE)\n",
    "                        cell.number_format ='0.00' #'General'\n",
    "                    #print('new:', cell.value)\n",
    "\n",
    "    convertedfilename = filename_noExt+'_{}.xlsx'.format('EUR')\n",
    "    wb.save(convertedpath+'/'+convertedfilename)\n",
    "    print(i,'End: File coverted to:',convertedfilename )\n",
    "    print('\\n')\n",
    "print(i+1, 'Files Converted!!!')"
   ]
  },
  {
   "cell_type": "code",
   "execution_count": null,
   "metadata": {},
   "outputs": [],
   "source": []
  }
 ],
 "metadata": {
  "celltoolbar": "Raw Cell Format",
  "kernelspec": {
   "display_name": "Python 3",
   "language": "python",
   "name": "python3"
  },
  "language_info": {
   "codemirror_mode": {
    "name": "ipython",
    "version": 3
   },
   "file_extension": ".py",
   "mimetype": "text/x-python",
   "name": "python",
   "nbconvert_exporter": "python",
   "pygments_lexer": "ipython3",
   "version": "3.7.3"
  }
 },
 "nbformat": 4,
 "nbformat_minor": 2
}
