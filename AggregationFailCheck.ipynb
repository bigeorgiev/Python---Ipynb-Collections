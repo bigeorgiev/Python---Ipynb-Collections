{
 "cells": [
  {
   "cell_type": "code",
   "execution_count": 2,
   "metadata": {},
   "outputs": [],
   "source": [
    "import os #, re, datetime\n",
    "import pandas as pd\n",
    "import numpy as np\n",
    "\n",
    "os.chdir(path)\n",
    "path = 'C:/Users/bgeorgiev/Documents/Python Scripts/Automate/'\n",
    "\n",
    "\n",
    "infile = 'TFS UK Issue3-31-19.xlsx'\n",
    "fields = 'TFS UK Issue3-31-19.xlsx'\n",
    "\n",
    "\n",
    "file  = pd.read_excel(path + infile, sheet_name = 'Data' ,index_col=0)\n",
    "\n",
    "datatypes = pd.read_excel(path + infile,sheet_name  = 'Field Size', index_col=0)\n",
    "datatypes = datatypes.fillna(0)"
   ]
  },
  {
   "cell_type": "code",
   "execution_count": 3,
   "metadata": {},
   "outputs": [],
   "source": [
    "#datatypes.head()"
   ]
  },
  {
   "cell_type": "code",
   "execution_count": 4,
   "metadata": {},
   "outputs": [
    {
     "data": {
      "text/html": [
       "<div>\n",
       "<style scoped>\n",
       "    .dataframe tbody tr th:only-of-type {\n",
       "        vertical-align: middle;\n",
       "    }\n",
       "\n",
       "    .dataframe tbody tr th {\n",
       "        vertical-align: top;\n",
       "    }\n",
       "\n",
       "    .dataframe thead th {\n",
       "        text-align: right;\n",
       "    }\n",
       "</style>\n",
       "<table border=\"1\" class=\"dataframe\">\n",
       "  <thead>\n",
       "    <tr style=\"text-align: right;\">\n",
       "      <th></th>\n",
       "      <th>Scale</th>\n",
       "      <th>Length</th>\n",
       "    </tr>\n",
       "    <tr>\n",
       "      <th>Physical Name</th>\n",
       "      <th></th>\n",
       "      <th></th>\n",
       "    </tr>\n",
       "  </thead>\n",
       "  <tbody>\n",
       "    <tr>\n",
       "      <th>MPool_ID</th>\n",
       "      <td>0.0</td>\n",
       "      <td>10.0</td>\n",
       "    </tr>\n",
       "    <tr>\n",
       "      <th>TRUST_ID</th>\n",
       "      <td>0.0</td>\n",
       "      <td>10.0</td>\n",
       "    </tr>\n",
       "    <tr>\n",
       "      <th>PCD_SALE_ID</th>\n",
       "      <td>0.0</td>\n",
       "      <td>10.0</td>\n",
       "    </tr>\n",
       "    <tr>\n",
       "      <th>Agreement_Number</th>\n",
       "      <td>0.0</td>\n",
       "      <td>12.0</td>\n",
       "    </tr>\n",
       "    <tr>\n",
       "      <th>Accnt_Tot_Ass_Displ_Loss_Cum_M</th>\n",
       "      <td>2.0</td>\n",
       "      <td>13.0</td>\n",
       "    </tr>\n",
       "  </tbody>\n",
       "</table>\n",
       "</div>"
      ],
      "text/plain": [
       "                                Scale  Length\n",
       "Physical Name                                \n",
       "MPool_ID                          0.0    10.0\n",
       "TRUST_ID                          0.0    10.0\n",
       "PCD_SALE_ID                       0.0    10.0\n",
       "Agreement_Number                  0.0    12.0\n",
       "Accnt_Tot_Ass_Displ_Loss_Cum_M    2.0    13.0"
      ]
     },
     "execution_count": 4,
     "metadata": {},
     "output_type": "execute_result"
    },
    {
     "data": {
      "text/html": [
       "<div>\n",
       "<style scoped>\n",
       "    .dataframe tbody tr th:only-of-type {\n",
       "        vertical-align: middle;\n",
       "    }\n",
       "\n",
       "    .dataframe tbody tr th {\n",
       "        vertical-align: top;\n",
       "    }\n",
       "\n",
       "    .dataframe thead th {\n",
       "        text-align: right;\n",
       "    }\n",
       "</style>\n",
       "<table border=\"1\" class=\"dataframe\">\n",
       "  <thead>\n",
       "    <tr style=\"text-align: right;\">\n",
       "      <th></th>\n",
       "      <th>Scale</th>\n",
       "      <th>Length</th>\n",
       "    </tr>\n",
       "    <tr>\n",
       "      <th>Physical Name</th>\n",
       "      <th></th>\n",
       "      <th></th>\n",
       "    </tr>\n",
       "  </thead>\n",
       "  <tbody>\n",
       "    <tr>\n",
       "      <th>AM_SCHED_Arrears_Included</th>\n",
       "      <td>4.0</td>\n",
       "      <td>14.0</td>\n",
       "    </tr>\n",
       "    <tr>\n",
       "      <th>AM_SCHED_Non_Int_Earning_Assets</th>\n",
       "      <td>4.0</td>\n",
       "      <td>14.0</td>\n",
       "    </tr>\n",
       "    <tr>\n",
       "      <th>AM_SCHED_Overpayments_Included</th>\n",
       "      <td>4.0</td>\n",
       "      <td>14.0</td>\n",
       "    </tr>\n",
       "    <tr>\n",
       "      <th>AM_SCHED_Suspended_Included</th>\n",
       "      <td>4.0</td>\n",
       "      <td>14.0</td>\n",
       "    </tr>\n",
       "    <tr>\n",
       "      <th>Accnt_Tot_Ass_Displ_Loss_Cum_M</th>\n",
       "      <td>2.0</td>\n",
       "      <td>13.0</td>\n",
       "    </tr>\n",
       "  </tbody>\n",
       "</table>\n",
       "</div>"
      ],
      "text/plain": [
       "                                 Scale  Length\n",
       "Physical Name                                 \n",
       "AM_SCHED_Arrears_Included          4.0    14.0\n",
       "AM_SCHED_Non_Int_Earning_Assets    4.0    14.0\n",
       "AM_SCHED_Overpayments_Included     4.0    14.0\n",
       "AM_SCHED_Suspended_Included        4.0    14.0\n",
       "Accnt_Tot_Ass_Displ_Loss_Cum_M     2.0    13.0"
      ]
     },
     "execution_count": 4,
     "metadata": {},
     "output_type": "execute_result"
    }
   ],
   "source": [
    "datasize = datatypes[datatypes['Data Type']!= 'DateTime']\n",
    "datasize = datasize[['Physical Name','Data Type', 'Size', 'Precision','Scale']]\n",
    "#datasize['Length'] = np.where(datasize['Data Type'].str.lower() == 'integer', datasize['Precision'], np.where(datasize['Data Type'].str.lower() == 'char', datasize['Size'], datasize['Precision'] -  datasize['Scale'] -1))\n",
    "datasize['Length'] = np.where(datasize['Data Type'].str.lower() == 'integer', datasize['Precision'].replace(0,datasize['Size']), np.where((datasize['Data Type'].str.lower() == 'char') | (datasize['Data Type'].str.lower() == 'string'), datasize['Size'], datasize['Precision'] -  datasize['Scale']))\n",
    "datasize = datasize.loc[:,['Physical Name', 'Scale','Length']]\n",
    "datasize = datasize.set_index('Physical Name')\n",
    "datasize.index = datasize.index.str.strip()\n",
    "datasize.head()\n",
    "datasize.sort_index(axis=0, ascending=True, inplace=True)\n",
    "datasize.head()"
   ]
  },
  {
   "cell_type": "code",
   "execution_count": 5,
   "metadata": {},
   "outputs": [],
   "source": [
    "#print(sorted(set(datasize['Physical Name'])))"
   ]
  },
  {
   "cell_type": "code",
   "execution_count": 6,
   "metadata": {},
   "outputs": [
    {
     "data": {
      "text/html": [
       "<div>\n",
       "<style scoped>\n",
       "    .dataframe tbody tr th:only-of-type {\n",
       "        vertical-align: middle;\n",
       "    }\n",
       "\n",
       "    .dataframe tbody tr th {\n",
       "        vertical-align: top;\n",
       "    }\n",
       "\n",
       "    .dataframe thead th {\n",
       "        text-align: right;\n",
       "    }\n",
       "</style>\n",
       "<table border=\"1\" class=\"dataframe\">\n",
       "  <thead>\n",
       "    <tr style=\"text-align: right;\">\n",
       "      <th></th>\n",
       "      <th>Min</th>\n",
       "      <th>Max</th>\n",
       "    </tr>\n",
       "    <tr>\n",
       "      <th>Physical Name</th>\n",
       "      <th></th>\n",
       "      <th></th>\n",
       "    </tr>\n",
       "  </thead>\n",
       "  <tbody>\n",
       "    <tr>\n",
       "      <th>AM_SCHED_Arrears_Included</th>\n",
       "      <td>0</td>\n",
       "      <td>252433</td>\n",
       "    </tr>\n",
       "    <tr>\n",
       "      <th>AM_SCHED_Non_Int_Earning_Assets</th>\n",
       "      <td>0</td>\n",
       "      <td>0</td>\n",
       "    </tr>\n",
       "    <tr>\n",
       "      <th>AM_SCHED_Overpayments_Included</th>\n",
       "      <td>0</td>\n",
       "      <td>0</td>\n",
       "    </tr>\n",
       "    <tr>\n",
       "      <th>AM_SCHED_Suspended_Included</th>\n",
       "      <td>0</td>\n",
       "      <td>78629.1</td>\n",
       "    </tr>\n",
       "    <tr>\n",
       "      <th>Accnt_Tot_Ass_Displ_Loss_Cum_M</th>\n",
       "      <td>-32726.8</td>\n",
       "      <td>3.15807e+06</td>\n",
       "    </tr>\n",
       "  </tbody>\n",
       "</table>\n",
       "</div>"
      ],
      "text/plain": [
       "                                     Min          Max\n",
       "Physical Name                                        \n",
       "AM_SCHED_Arrears_Included              0       252433\n",
       "AM_SCHED_Non_Int_Earning_Assets        0            0\n",
       "AM_SCHED_Overpayments_Included         0            0\n",
       "AM_SCHED_Suspended_Included            0      78629.1\n",
       "Accnt_Tot_Ass_Displ_Loss_Cum_M  -32726.8  3.15807e+06"
      ]
     },
     "execution_count": 6,
     "metadata": {},
     "output_type": "execute_result"
    }
   ],
   "source": [
    "filemax =  pd.DataFrame(file.max())\n",
    "filemin =  pd.DataFrame(file.min())\n",
    "fileminmax = pd.concat([filemin, filemax], axis = 1) #, ignore_index = 'True') \n",
    "fileminmax.columns = ['Min', 'Max']\n",
    "fileminmax.index.name = 'Physical Name'\n",
    "fileminmax.index = fileminmax.index.str.strip()\n",
    "fileminmax.sort_index(axis=0, ascending=True, inplace=True)\n",
    "fileminmax.head()"
   ]
  },
  {
   "cell_type": "code",
   "execution_count": 7,
   "metadata": {},
   "outputs": [
    {
     "name": "stdout",
     "output_type": "stream",
     "text": [
      "<class 'pandas.core.frame.DataFrame'>\n",
      "Index: 124 entries, AM_SCHED_Arrears_Included to WA_YIELD\n",
      "Data columns (total 2 columns):\n",
      "Min    124 non-null object\n",
      "Max    124 non-null object\n",
      "dtypes: object(2)\n",
      "memory usage: 2.9+ KB\n"
     ]
    },
    {
     "data": {
      "text/html": [
       "<div>\n",
       "<style scoped>\n",
       "    .dataframe tbody tr th:only-of-type {\n",
       "        vertical-align: middle;\n",
       "    }\n",
       "\n",
       "    .dataframe tbody tr th {\n",
       "        vertical-align: top;\n",
       "    }\n",
       "\n",
       "    .dataframe thead th {\n",
       "        text-align: right;\n",
       "    }\n",
       "</style>\n",
       "<table border=\"1\" class=\"dataframe\">\n",
       "  <thead>\n",
       "    <tr style=\"text-align: right;\">\n",
       "      <th></th>\n",
       "      <th>Min</th>\n",
       "      <th>Max</th>\n",
       "    </tr>\n",
       "    <tr>\n",
       "      <th>Physical Name</th>\n",
       "      <th></th>\n",
       "      <th></th>\n",
       "    </tr>\n",
       "  </thead>\n",
       "  <tbody>\n",
       "    <tr>\n",
       "      <th>AM_SCHED_Arrears_Included</th>\n",
       "      <td>0</td>\n",
       "      <td>252433</td>\n",
       "    </tr>\n",
       "    <tr>\n",
       "      <th>AM_SCHED_Non_Int_Earning_Assets</th>\n",
       "      <td>0</td>\n",
       "      <td>0</td>\n",
       "    </tr>\n",
       "    <tr>\n",
       "      <th>AM_SCHED_Overpayments_Included</th>\n",
       "      <td>0</td>\n",
       "      <td>0</td>\n",
       "    </tr>\n",
       "    <tr>\n",
       "      <th>AM_SCHED_Suspended_Included</th>\n",
       "      <td>0</td>\n",
       "      <td>78629.1</td>\n",
       "    </tr>\n",
       "    <tr>\n",
       "      <th>Accnt_Tot_Ass_Displ_Loss_Cum_M</th>\n",
       "      <td>-32726.8</td>\n",
       "      <td>3.15807e+06</td>\n",
       "    </tr>\n",
       "  </tbody>\n",
       "</table>\n",
       "</div>"
      ],
      "text/plain": [
       "                                     Min          Max\n",
       "Physical Name                                        \n",
       "AM_SCHED_Arrears_Included              0       252433\n",
       "AM_SCHED_Non_Int_Earning_Assets        0            0\n",
       "AM_SCHED_Overpayments_Included         0            0\n",
       "AM_SCHED_Suspended_Included            0      78629.1\n",
       "Accnt_Tot_Ass_Displ_Loss_Cum_M  -32726.8  3.15807e+06"
      ]
     },
     "execution_count": 7,
     "metadata": {},
     "output_type": "execute_result"
    }
   ],
   "source": [
    "fileminmax.info()\n",
    "fileminmax.head()"
   ]
  },
  {
   "cell_type": "code",
   "execution_count": 8,
   "metadata": {},
   "outputs": [
    {
     "name": "stdout",
     "output_type": "stream",
     "text": [
      "<class 'pandas.core.frame.DataFrame'>\n",
      "Index: 135 entries, AM_SCHED_Arrears_Included to WA_YIELD\n",
      "Data columns (total 2 columns):\n",
      "Scale     135 non-null float64\n",
      "Length    135 non-null float64\n",
      "dtypes: float64(2)\n",
      "memory usage: 3.2+ KB\n"
     ]
    },
    {
     "data": {
      "text/html": [
       "<div>\n",
       "<style scoped>\n",
       "    .dataframe tbody tr th:only-of-type {\n",
       "        vertical-align: middle;\n",
       "    }\n",
       "\n",
       "    .dataframe tbody tr th {\n",
       "        vertical-align: top;\n",
       "    }\n",
       "\n",
       "    .dataframe thead th {\n",
       "        text-align: right;\n",
       "    }\n",
       "</style>\n",
       "<table border=\"1\" class=\"dataframe\">\n",
       "  <thead>\n",
       "    <tr style=\"text-align: right;\">\n",
       "      <th></th>\n",
       "      <th>Scale</th>\n",
       "      <th>Length</th>\n",
       "    </tr>\n",
       "    <tr>\n",
       "      <th>Physical Name</th>\n",
       "      <th></th>\n",
       "      <th></th>\n",
       "    </tr>\n",
       "  </thead>\n",
       "  <tbody>\n",
       "    <tr>\n",
       "      <th>AM_SCHED_Arrears_Included</th>\n",
       "      <td>4.0</td>\n",
       "      <td>14.0</td>\n",
       "    </tr>\n",
       "    <tr>\n",
       "      <th>AM_SCHED_Non_Int_Earning_Assets</th>\n",
       "      <td>4.0</td>\n",
       "      <td>14.0</td>\n",
       "    </tr>\n",
       "    <tr>\n",
       "      <th>AM_SCHED_Overpayments_Included</th>\n",
       "      <td>4.0</td>\n",
       "      <td>14.0</td>\n",
       "    </tr>\n",
       "    <tr>\n",
       "      <th>AM_SCHED_Suspended_Included</th>\n",
       "      <td>4.0</td>\n",
       "      <td>14.0</td>\n",
       "    </tr>\n",
       "    <tr>\n",
       "      <th>Accnt_Tot_Ass_Displ_Loss_Cum_M</th>\n",
       "      <td>2.0</td>\n",
       "      <td>13.0</td>\n",
       "    </tr>\n",
       "  </tbody>\n",
       "</table>\n",
       "</div>"
      ],
      "text/plain": [
       "                                 Scale  Length\n",
       "Physical Name                                 \n",
       "AM_SCHED_Arrears_Included          4.0    14.0\n",
       "AM_SCHED_Non_Int_Earning_Assets    4.0    14.0\n",
       "AM_SCHED_Overpayments_Included     4.0    14.0\n",
       "AM_SCHED_Suspended_Included        4.0    14.0\n",
       "Accnt_Tot_Ass_Displ_Loss_Cum_M     2.0    13.0"
      ]
     },
     "execution_count": 8,
     "metadata": {},
     "output_type": "execute_result"
    }
   ],
   "source": [
    "datasize.info()\n",
    "datasize.head()"
   ]
  },
  {
   "cell_type": "code",
   "execution_count": 9,
   "metadata": {},
   "outputs": [],
   "source": [
    "#fileminmax.index\n",
    "#datasize.index"
   ]
  },
  {
   "cell_type": "code",
   "execution_count": 10,
   "metadata": {},
   "outputs": [
    {
     "name": "stdout",
     "output_type": "stream",
     "text": [
      "<class 'pandas.core.frame.DataFrame'>\n",
      "Index: 124 entries, AM_SCHED_Arrears_Included to WA_YIELD\n",
      "Data columns (total 2 columns):\n",
      "Min    124 non-null object\n",
      "Max    124 non-null object\n",
      "dtypes: object(2)\n",
      "memory usage: 2.9+ KB\n"
     ]
    },
    {
     "data": {
      "text/html": [
       "<div>\n",
       "<style scoped>\n",
       "    .dataframe tbody tr th:only-of-type {\n",
       "        vertical-align: middle;\n",
       "    }\n",
       "\n",
       "    .dataframe tbody tr th {\n",
       "        vertical-align: top;\n",
       "    }\n",
       "\n",
       "    .dataframe thead th {\n",
       "        text-align: right;\n",
       "    }\n",
       "</style>\n",
       "<table border=\"1\" class=\"dataframe\">\n",
       "  <thead>\n",
       "    <tr style=\"text-align: right;\">\n",
       "      <th></th>\n",
       "      <th>Min</th>\n",
       "      <th>Max</th>\n",
       "    </tr>\n",
       "    <tr>\n",
       "      <th>Physical Name</th>\n",
       "      <th></th>\n",
       "      <th></th>\n",
       "    </tr>\n",
       "  </thead>\n",
       "  <tbody>\n",
       "    <tr>\n",
       "      <th>AM_SCHED_Arrears_Included</th>\n",
       "      <td>0</td>\n",
       "      <td>252433</td>\n",
       "    </tr>\n",
       "    <tr>\n",
       "      <th>AM_SCHED_Non_Int_Earning_Assets</th>\n",
       "      <td>0</td>\n",
       "      <td>0</td>\n",
       "    </tr>\n",
       "    <tr>\n",
       "      <th>AM_SCHED_Overpayments_Included</th>\n",
       "      <td>0</td>\n",
       "      <td>0</td>\n",
       "    </tr>\n",
       "    <tr>\n",
       "      <th>AM_SCHED_Suspended_Included</th>\n",
       "      <td>0</td>\n",
       "      <td>78629.1</td>\n",
       "    </tr>\n",
       "    <tr>\n",
       "      <th>Accnt_Tot_Ass_Displ_Loss_Cum_M</th>\n",
       "      <td>-32726.8</td>\n",
       "      <td>3.15807e+06</td>\n",
       "    </tr>\n",
       "  </tbody>\n",
       "</table>\n",
       "</div>"
      ],
      "text/plain": [
       "                                     Min          Max\n",
       "Physical Name                                        \n",
       "AM_SCHED_Arrears_Included              0       252433\n",
       "AM_SCHED_Non_Int_Earning_Assets        0            0\n",
       "AM_SCHED_Overpayments_Included         0            0\n",
       "AM_SCHED_Suspended_Included            0      78629.1\n",
       "Accnt_Tot_Ass_Displ_Loss_Cum_M  -32726.8  3.15807e+06"
      ]
     },
     "execution_count": 10,
     "metadata": {},
     "output_type": "execute_result"
    }
   ],
   "source": [
    "fileminmax.info()\n",
    "fileminmax.head()"
   ]
  },
  {
   "cell_type": "code",
   "execution_count": 11,
   "metadata": {},
   "outputs": [
    {
     "data": {
      "text/plain": [
       "Index(['Agreement_Number', 'Asset_Status_Month', 'Customer_Number', 'MPool_ID',\n",
       "       'PCD_SALE_ID', 'Rentals_In_Arrears_Month_Group', 'Repurchased_Pool',\n",
       "       'S_AcctStatus', 'S_AcctStatusPreCSEOM', 'S_InvEndPrinBal',\n",
       "       'Sold_Pool_Month', 'Status_Month', 'Sub_Status_Month'],\n",
       "      dtype='object', name='Physical Name')"
      ]
     },
     "execution_count": 11,
     "metadata": {},
     "output_type": "execute_result"
    }
   ],
   "source": [
    "idxd = datasize.index\n",
    "idxf = fileminmax.index\n",
    "idxd.difference(idxf)"
   ]
  },
  {
   "cell_type": "code",
   "execution_count": 12,
   "metadata": {},
   "outputs": [],
   "source": [
    "new = pd.merge(datasize,fileminmax,how='left', left_index=True, right_index=True)\n",
    "\n",
    "\n",
    "new['Min'] = new['Min'].fillna(0)\n",
    "new['Max'] = new['Max'].fillna(0)\n",
    "\n",
    "new['MinInt'] = pd.to_numeric(new['Min'], errors='coerce')\n",
    "new['MinInt'] = new['MinInt'].fillna(0)\n",
    "#new = new.dropna(subset=['MinInt'])\n",
    "new['MinInt'] = abs(new['MinInt'].astype('int'))\n",
    "\n",
    "\n",
    "new['MaxInt'] = pd.to_numeric(new['Max'], errors='coerce')\n",
    "new['MaxInt'] = new['MaxInt'].fillna(0)\n",
    "#new = new.dropna(subset=['MinInt'])\n",
    "new['MaxInt'] = abs(new['MaxInt'].astype('int'))"
   ]
  },
  {
   "cell_type": "code",
   "execution_count": 13,
   "metadata": {},
   "outputs": [
    {
     "name": "stdout",
     "output_type": "stream",
     "text": [
      "                Scale  Length Min      Max  MinInt  MaxInt MaxBreak MinBreak\n",
      "Physical Name                                                               \n",
      "PctBalloonPmts   15.0     3.0   0  2359.36       0    2359        Y         \n"
     ]
    }
   ],
   "source": [
    "new['MaxBreak'] = np.where(new['Length'] - new['MaxInt'].map(str).apply(len) < 0 , 'Y','')\n",
    "new['MinBreak'] = np.where(new['Length'] - new['MinInt'].map(str).apply(len) < 0 , 'Y','')\n",
    "\n",
    "issues = new[(new['MaxBreak'] == 'Y')| (new['MinBreak'] == 'Y')]\n",
    "print(issues)"
   ]
  }
 ],
 "metadata": {
  "kernelspec": {
   "display_name": "Python 3",
   "language": "python",
   "name": "python3"
  },
  "language_info": {
   "codemirror_mode": {
    "name": "ipython",
    "version": 3
   },
   "file_extension": ".py",
   "mimetype": "text/x-python",
   "name": "python",
   "nbconvert_exporter": "python",
   "pygments_lexer": "ipython3",
   "version": "3.6.7"
  }
 },
 "nbformat": 4,
 "nbformat_minor": 2
}
